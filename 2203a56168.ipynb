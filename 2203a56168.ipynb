{
  "nbformat": 4,
  "nbformat_minor": 0,
  "metadata": {
    "colab": {
      "provenance": []
    },
    "kernelspec": {
      "name": "python3",
      "display_name": "Python 3"
    },
    "language_info": {
      "name": "python"
    }
  },
  "cells": [
    {
      "cell_type": "code",
      "execution_count": null,
      "metadata": {
        "colab": {
          "base_uri": "https://localhost:8080/"
        },
        "id": "aGH3HksL3XWS",
        "outputId": "c1c3d1bf-568d-42c8-a0e2-9e606bc1d644"
      },
      "outputs": [
        {
          "output_type": "stream",
          "name": "stdout",
          "text": [
            "     Age  Gender  Protein1  Protein2  Protein3  Protein4  Tumour_Stage  \\\n",
            "0     42       1  0.952560   2.15000  0.007972 -0.048340             1   \n",
            "1     54       1  0.000000   1.38020 -0.498030 -0.507320             1   \n",
            "2     63       1 -0.523030   1.76400 -0.370190  0.010815             1   \n",
            "3     78       1 -0.876180   0.12943 -0.370380  0.132190             0   \n",
            "4     42       1  0.226110   1.74910 -0.543970 -0.390210             1   \n",
            "..   ...     ...       ...       ...       ...       ...           ...   \n",
            "329   59       1  0.024598   1.40050  0.024751  0.280320             1   \n",
            "330   41       1  0.100120  -0.46547  0.472370 -0.523870             0   \n",
            "331   54       1  0.753820   1.64250 -0.332850  0.857860             1   \n",
            "332   74       1  0.972510   1.42680 -0.366570 -0.107820             1   \n",
            "333   66       1  0.286380   1.39980  0.318830  0.836050             1   \n",
            "\n",
            "     ER status  PR status  HER2 status  Patient_Status  \n",
            "0            1          1            0             0.0  \n",
            "1            1          1            0             1.0  \n",
            "2            1          1            0             0.0  \n",
            "3            1          1            0             0.0  \n",
            "4            1          1            1             0.0  \n",
            "..         ...        ...          ...             ...  \n",
            "329          1          1            1             0.0  \n",
            "330          1          1            1             0.0  \n",
            "331          1          1            0             1.0  \n",
            "332          1          1            0             0.0  \n",
            "333          1          1            0             1.0  \n",
            "\n",
            "[334 rows x 11 columns]\n"
          ]
        }
      ],
      "source": [
        "import pandas as pd\n",
        "from sklearn.model_selection import train_test_split\n",
        "a=pd.read_csv('/content/breast_cancer_survival.csv')\n",
        "b=a.fillna(0)\n",
        "l=b.iloc[0:334,14:15]\n",
        "a['Patient_Status']=a['Patient_Status'].replace({'Alive': 0, 'Dead': 1})\n",
        "x= a.drop(\"Patient_Status\", axis='columns')\n",
        "k=a.drop(\"Histology\",axis='columns')\n",
        "k=k.drop(\"Surgery_type\",axis='columns')\n",
        "k=k.drop(\"Date_of_Surgery\",axis='columns')\n",
        "k=k.drop(\"Date_of_Last_Visit\",axis='columns')\n",
        "k['Tumour_Stage']=k['Tumour_Stage'].replace({'I': 0, 'II': 1,'III':2})\n",
        "k['Gender']=k['Gender'].replace({'MALE': 0, 'FEMALE': 1})\n",
        "k['ER status']=k['ER status'].replace({'Negative': 0, 'Positive': 1})\n",
        "k['HER2 status']=k['HER2 status'].replace({'Negative': 0, 'Positive': 1})\n",
        "k['PR status']=k['PR status'].replace({'Negative': 0, 'Positive': 1})\n",
        "k['Patient_Status']=k['Patient_Status'].replace({'Alive': 1, 'Dead': 0})\n",
        "y=k[\"Patient_Status\"]\n",
        "x= k.drop(\"Patient_Status\", axis='columns')\n",
        "print(k)"
      ]
    },
    {
      "cell_type": "code",
      "source": [
        "import pandas as pd\n",
        "from sklearn.model_selection import train_test_split\n",
        "a=pd.read_csv('/content/breast_cancer_survival.csv')\n",
        "b=a.fillna(0)\n",
        "l=b.iloc[0:334,14:15]\n",
        "a['Patient_Status']=a['Patient_Status'].replace({'Alive': 0, 'Dead': 1})\n",
        "x= a.drop(\"Patient_Status\", axis='columns')\n",
        "k=a.drop(\"Histology\",axis='columns')\n",
        "k=k.drop(\"Surgery_type\",axis='columns')\n",
        "k=k.drop(\"Date_of_Surgery\",axis='columns')\n",
        "k=k.drop(\"Date_of_Last_Visit\",axis='columns')\n",
        "k=k.drop(\"Tumour_Stage\",axis='columns')\n",
        "k=k.drop(\"Age\",axis='columns')\n",
        "k=k.drop(\"Gender\",axis='columns')\n",
        "k=k.drop(\"ER status\",axis='columns')\n",
        "k=k.drop(\"PR status\",axis='columns')\n",
        "k=k.drop(\"HER2 status\",axis='columns')\n",
        "k['Patient_Status']=k['Patient_Status'].replace({'Alive': 1, 'Dead': 0})\n",
        "y=k[\"Patient_Status\"]\n",
        "x= k.drop(\"Patient_Status\", axis='columns')\n",
        "print(k)"
      ],
      "metadata": {
        "colab": {
          "base_uri": "https://localhost:8080/"
        },
        "id": "UKzctlS_44eA",
        "outputId": "6773990b-d76f-4a9a-e2a0-be91334be3ab"
      },
      "execution_count": null,
      "outputs": [
        {
          "output_type": "stream",
          "name": "stdout",
          "text": [
            "     Protein1  Protein2  Protein3  Protein4  Patient_Status\n",
            "0    0.952560   2.15000  0.007972 -0.048340             0.0\n",
            "1    0.000000   1.38020 -0.498030 -0.507320             1.0\n",
            "2   -0.523030   1.76400 -0.370190  0.010815             0.0\n",
            "3   -0.876180   0.12943 -0.370380  0.132190             0.0\n",
            "4    0.226110   1.74910 -0.543970 -0.390210             0.0\n",
            "..        ...       ...       ...       ...             ...\n",
            "329  0.024598   1.40050  0.024751  0.280320             0.0\n",
            "330  0.100120  -0.46547  0.472370 -0.523870             0.0\n",
            "331  0.753820   1.64250 -0.332850  0.857860             1.0\n",
            "332  0.972510   1.42680 -0.366570 -0.107820             0.0\n",
            "333  0.286380   1.39980  0.318830  0.836050             1.0\n",
            "\n",
            "[334 rows x 5 columns]\n"
          ]
        }
      ]
    },
    {
      "cell_type": "code",
      "source": [
        "import numpy as np\n",
        "import pandas as pd\n",
        "import matplotlib.pyplot as plt\n",
        "from sklearn.preprocessing import MinMaxScaler\n",
        "from sklearn.model_selection import train_test_split\n",
        "from sklearn.linear_model import LogisticRegression\n",
        "from sklearn.metrics import accuracy_score\n",
        "def logistic_regression(data):\n",
        "    data['Patient_Status'] = data['Patient_Status'].map({'Alive': 1, 'Dead': 0})\n",
        "    data['HER2 status'] = data['HER2 status'].map({'Positive': 1, 'Negative': 0})\n",
        "    data = data.fillna(data.mean())\n",
        "    columns_to_drop = ['Surgery_type', 'Date_of_Surgery', 'Date_of_Last_Visit', 'Histology', 'Tumour_Stage', 'Gender','ER status','PR status']\n",
        "    data = data.drop(columns=columns_to_drop)\n",
        "    if data['Patient_Status'].isnull().sum() > 0:\n",
        "        raise ValueError(\"NaNs found in the target variable.\")\n",
        "    features = data.drop(\"Patient_Status\", axis=1)\n",
        "    target = data[\"Patient_Status\"].astype(int)\n",
        "    x_train, x_test, y_train, y_test = train_test_split(features, target, test_size=0.2, random_state=42)\n",
        "    logistic_reg = LogisticRegression()\n",
        "    logistic_reg.fit(x_train, y_train)\n",
        "    y_pred = logistic_reg.predict(x_test)\n",
        "    accuracy = accuracy_score(y_test, y_pred)\n",
        "    print(\"Accuracy:\", accuracy)\n",
        "data = pd.read_csv(\"/content/breast_cancer_survival.csv\")\n",
        "logistic_regression(data)"
      ],
      "metadata": {
        "colab": {
          "base_uri": "https://localhost:8080/"
        },
        "id": "uoNiB9bF_ghB",
        "outputId": "a8a03926-48b2-4399-cc81-b652d7824216"
      },
      "execution_count": 6,
      "outputs": [
        {
          "output_type": "stream",
          "name": "stdout",
          "text": [
            "Accuracy: 0.7761194029850746\n"
          ]
        },
        {
          "output_type": "stream",
          "name": "stderr",
          "text": [
            "<ipython-input-6-b7d6982706d3>:11: FutureWarning: The default value of numeric_only in DataFrame.mean is deprecated. In a future version, it will default to False. In addition, specifying 'numeric_only=None' is deprecated. Select only valid columns or specify the value of numeric_only to silence this warning.\n",
            "  data = data.fillna(data.mean())\n"
          ]
        }
      ]
    }
  ]
}